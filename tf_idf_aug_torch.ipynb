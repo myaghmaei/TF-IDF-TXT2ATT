{
 "cells": [
  {
   "cell_type": "code",
   "execution_count": 1,
   "id": "bcf10d01",
   "metadata": {},
   "outputs": [
    {
     "name": "stderr",
     "output_type": "stream",
     "text": [
      "C:\\Users\\MOHSEN\\anaconda3\\envs\\mytorch\\lib\\site-packages\\tqdm\\auto.py:22: TqdmWarning: IProgress not found. Please update jupyter and ipywidgets. See https://ipywidgets.readthedocs.io/en/stable/user_install.html\n",
      "  from .autonotebook import tqdm as notebook_tqdm\n"
     ]
    }
   ],
   "source": [
    "import pandas as pd\n",
    "import xlsxwriter\n",
    "import numpy as np\n",
    "\n",
    "import nlpaug.augmenter.word.context_word_embs as aug\n",
    "\n",
    "from sklearn.feature_extraction.text import TfidfVectorizer\n",
    "from sklearn.ensemble import RandomForestClassifier\n",
    "from sklearn.metrics import roc_auc_score\n",
    "from sklearn.metrics import accuracy_score\n",
    "from sklearn.metrics import confusion_matrix, accuracy_score, classification_report\n",
    "from sklearn.utils import shuffle\n",
    "from sklearn.model_selection import train_test_split\n",
    "\n",
    "\n",
    "from tqdm.auto import tqdm\n",
    "\n"
   ]
  },
  {
   "cell_type": "code",
   "execution_count": 2,
   "id": "5b664250",
   "metadata": {},
   "outputs": [
    {
     "name": "stdout",
     "output_type": "stream",
     "text": [
      "(7115, 3)\n"
     ]
    },
    {
     "data": {
      "text/html": [
       "<div>\n",
       "<style scoped>\n",
       "    .dataframe tbody tr th:only-of-type {\n",
       "        vertical-align: middle;\n",
       "    }\n",
       "\n",
       "    .dataframe tbody tr th {\n",
       "        vertical-align: top;\n",
       "    }\n",
       "\n",
       "    .dataframe thead th {\n",
       "        text-align: right;\n",
       "    }\n",
       "</style>\n",
       "<table border=\"1\" class=\"dataframe\">\n",
       "  <thead>\n",
       "    <tr style=\"text-align: right;\">\n",
       "      <th></th>\n",
       "      <th>Unnamed: 0</th>\n",
       "      <th>text</th>\n",
       "      <th>class</th>\n",
       "    </tr>\n",
       "  </thead>\n",
       "  <tbody>\n",
       "    <tr>\n",
       "      <th>0</th>\n",
       "      <td>0</td>\n",
       "      <td>this article is about the herbivorous mammals....</td>\n",
       "      <td>Antelope</td>\n",
       "    </tr>\n",
       "    <tr>\n",
       "      <th>1</th>\n",
       "      <td>1</td>\n",
       "      <td>one new world species, the pronghorn of north ...</td>\n",
       "      <td>Antelope</td>\n",
       "    </tr>\n",
       "    <tr>\n",
       "      <th>2</th>\n",
       "      <td>2</td>\n",
       "      <td>the english word \"animal\" first appeared in 14...</td>\n",
       "      <td>Antelope</td>\n",
       "    </tr>\n",
       "    <tr>\n",
       "      <th>3</th>\n",
       "      <td>3</td>\n",
       "      <td>the word talopus and calopus, from latin, came...</td>\n",
       "      <td>Antelope</td>\n",
       "    </tr>\n",
       "    <tr>\n",
       "      <th>4</th>\n",
       "      <td>4</td>\n",
       "      <td>animal are not a cladistic or taxonomically de...</td>\n",
       "      <td>Antelope</td>\n",
       "    </tr>\n",
       "  </tbody>\n",
       "</table>\n",
       "</div>"
      ],
      "text/plain": [
       "   Unnamed: 0                                               text     class\n",
       "0           0  this article is about the herbivorous mammals....  Antelope\n",
       "1           1  one new world species, the pronghorn of north ...  Antelope\n",
       "2           2  the english word \"animal\" first appeared in 14...  Antelope\n",
       "3           3  the word talopus and calopus, from latin, came...  Antelope\n",
       "4           4  animal are not a cladistic or taxonomically de...  Antelope"
      ]
     },
     "execution_count": 2,
     "metadata": {},
     "output_type": "execute_result"
    }
   ],
   "source": [
    "#read the data into a pandas dataframe\n",
    "df = pd.read_csv(\"bert_data_withoutClassWord.csv\")\n",
    "print(df.shape)\n",
    "df.head(5)"
   ]
  },
  {
   "cell_type": "code",
   "execution_count": 3,
   "id": "b5605886",
   "metadata": {},
   "outputs": [
    {
     "data": {
      "text/html": [
       "<div>\n",
       "<style scoped>\n",
       "    .dataframe tbody tr th:only-of-type {\n",
       "        vertical-align: middle;\n",
       "    }\n",
       "\n",
       "    .dataframe tbody tr th {\n",
       "        vertical-align: top;\n",
       "    }\n",
       "\n",
       "    .dataframe thead th {\n",
       "        text-align: right;\n",
       "    }\n",
       "</style>\n",
       "<table border=\"1\" class=\"dataframe\">\n",
       "  <thead>\n",
       "    <tr style=\"text-align: right;\">\n",
       "      <th></th>\n",
       "      <th>Unnamed: 0</th>\n",
       "      <th>text</th>\n",
       "      <th>class</th>\n",
       "      <th>class_num</th>\n",
       "    </tr>\n",
       "  </thead>\n",
       "  <tbody>\n",
       "    <tr>\n",
       "      <th>0</th>\n",
       "      <td>0</td>\n",
       "      <td>this article is about the herbivorous mammals....</td>\n",
       "      <td>Antelope</td>\n",
       "      <td>0.0</td>\n",
       "    </tr>\n",
       "    <tr>\n",
       "      <th>1</th>\n",
       "      <td>1</td>\n",
       "      <td>one new world species, the pronghorn of north ...</td>\n",
       "      <td>Antelope</td>\n",
       "      <td>0.0</td>\n",
       "    </tr>\n",
       "    <tr>\n",
       "      <th>2</th>\n",
       "      <td>2</td>\n",
       "      <td>the english word \"animal\" first appeared in 14...</td>\n",
       "      <td>Antelope</td>\n",
       "      <td>0.0</td>\n",
       "    </tr>\n",
       "    <tr>\n",
       "      <th>3</th>\n",
       "      <td>3</td>\n",
       "      <td>the word talopus and calopus, from latin, came...</td>\n",
       "      <td>Antelope</td>\n",
       "      <td>0.0</td>\n",
       "    </tr>\n",
       "    <tr>\n",
       "      <th>4</th>\n",
       "      <td>4</td>\n",
       "      <td>animal are not a cladistic or taxonomically de...</td>\n",
       "      <td>Antelope</td>\n",
       "      <td>0.0</td>\n",
       "    </tr>\n",
       "    <tr>\n",
       "      <th>...</th>\n",
       "      <td>...</td>\n",
       "      <td>...</td>\n",
       "      <td>...</td>\n",
       "      <td>...</td>\n",
       "    </tr>\n",
       "    <tr>\n",
       "      <th>7110</th>\n",
       "      <td>7110</td>\n",
       "      <td>technology to use sponges as mouth protection ...</td>\n",
       "      <td>dolphin</td>\n",
       "      <td>49.0</td>\n",
       "    </tr>\n",
       "    <tr>\n",
       "      <th>7111</th>\n",
       "      <td>7111</td>\n",
       "      <td>pesticides, heavy metals, plastics, and other ...</td>\n",
       "      <td>dolphin</td>\n",
       "      <td>49.0</td>\n",
       "    </tr>\n",
       "    <tr>\n",
       "      <th>7112</th>\n",
       "      <td>7112</td>\n",
       "      <td>hundreds of orcas, animals and other members o...</td>\n",
       "      <td>dolphin</td>\n",
       "      <td>49.0</td>\n",
       "    </tr>\n",
       "    <tr>\n",
       "      <th>7113</th>\n",
       "      <td>7113</td>\n",
       "      <td>captured orcas and animals are confined to tan...</td>\n",
       "      <td>dolphin</td>\n",
       "      <td>49.0</td>\n",
       "    </tr>\n",
       "    <tr>\n",
       "      <th>7114</th>\n",
       "      <td>7114</td>\n",
       "      <td>marine parks may withhold up to 60 percent of ...</td>\n",
       "      <td>dolphin</td>\n",
       "      <td>49.0</td>\n",
       "    </tr>\n",
       "  </tbody>\n",
       "</table>\n",
       "<p>7115 rows × 4 columns</p>\n",
       "</div>"
      ],
      "text/plain": [
       "      Unnamed: 0                                               text     class  \\\n",
       "0              0  this article is about the herbivorous mammals....  Antelope   \n",
       "1              1  one new world species, the pronghorn of north ...  Antelope   \n",
       "2              2  the english word \"animal\" first appeared in 14...  Antelope   \n",
       "3              3  the word talopus and calopus, from latin, came...  Antelope   \n",
       "4              4  animal are not a cladistic or taxonomically de...  Antelope   \n",
       "...          ...                                                ...       ...   \n",
       "7110        7110  technology to use sponges as mouth protection ...   dolphin   \n",
       "7111        7111  pesticides, heavy metals, plastics, and other ...   dolphin   \n",
       "7112        7112  hundreds of orcas, animals and other members o...   dolphin   \n",
       "7113        7113  captured orcas and animals are confined to tan...   dolphin   \n",
       "7114        7114  marine parks may withhold up to 60 percent of ...   dolphin   \n",
       "\n",
       "      class_num  \n",
       "0           0.0  \n",
       "1           0.0  \n",
       "2           0.0  \n",
       "3           0.0  \n",
       "4           0.0  \n",
       "...         ...  \n",
       "7110       49.0  \n",
       "7111       49.0  \n",
       "7112       49.0  \n",
       "7113       49.0  \n",
       "7114       49.0  \n",
       "\n",
       "[7115 rows x 4 columns]"
      ]
     },
     "execution_count": 3,
     "metadata": {},
     "output_type": "execute_result"
    }
   ],
   "source": [
    "#Add the new column which gives a unique number to each of these labels \n",
    "\n",
    "j = 0\n",
    "for i in df['class'].unique():\n",
    "    df.loc[df['class'] == i, ['class_num']] = j\n",
    "    j += 1\n",
    "\n",
    "#checking the results \n",
    "df.head(50000)"
   ]
  },
  {
   "cell_type": "code",
   "execution_count": 4,
   "id": "6d662f7d",
   "metadata": {},
   "outputs": [],
   "source": [
    "X_train, X_test, y_train, y_test = train_test_split(\n",
    "    df.text, \n",
    "    df.class_num, \n",
    "    test_size=0.2, # 20% samples will go to test dataset\n",
    "    random_state=2022,\n",
    "    stratify=df.class_num\n",
    ")"
   ]
  },
  {
   "cell_type": "code",
   "execution_count": 5,
   "id": "84251f57",
   "metadata": {},
   "outputs": [],
   "source": [
    "embbeding_size = 8000\n",
    "clustering_count = 3\n",
    "numof_embb = 2\n",
    "att_size = embbeding_size * clustering_count"
   ]
  },
  {
   "cell_type": "code",
   "execution_count": 6,
   "id": "45d18d26",
   "metadata": {},
   "outputs": [
    {
     "name": "stdout",
     "output_type": "stream",
     "text": [
      "              precision    recall  f1-score   support\n",
      "\n",
      "         0.0       0.29      0.39      0.34        38\n",
      "         1.0       0.40      0.26      0.32        23\n",
      "         2.0       0.70      0.57      0.63        28\n",
      "         3.0       0.45      0.54      0.49        37\n",
      "         4.0       0.11      0.04      0.06        23\n",
      "         5.0       0.27      0.46      0.34        37\n",
      "         6.0       0.39      0.61      0.47        44\n",
      "         7.0       0.36      0.61      0.45        31\n",
      "         8.0       0.45      0.43      0.44        23\n",
      "         9.0       0.35      0.28      0.31        25\n",
      "        10.0       0.45      0.24      0.31        21\n",
      "        11.0       0.33      0.20      0.25        20\n",
      "        12.0       0.39      0.36      0.38        36\n",
      "        13.0       0.68      0.66      0.67        29\n",
      "        14.0       0.56      0.34      0.43        29\n",
      "        15.0       0.52      0.56      0.54        27\n",
      "        16.0       0.33      0.08      0.13        12\n",
      "        17.0       0.31      0.19      0.24        21\n",
      "        18.0       0.36      0.44      0.40        39\n",
      "        19.0       0.48      0.50      0.49        32\n",
      "        20.0       1.00      0.50      0.67        12\n",
      "        21.0       0.36      0.76      0.49        21\n",
      "        22.0       0.67      0.58      0.62        31\n",
      "        23.0       0.69      0.69      0.69        45\n",
      "        24.0       0.44      0.42      0.43        26\n",
      "        25.0       0.45      0.41      0.43        22\n",
      "        26.0       0.35      0.29      0.32        21\n",
      "        27.0       0.78      0.75      0.77        24\n",
      "        28.0       0.39      0.43      0.41        37\n",
      "        29.0       0.59      0.73      0.65        41\n",
      "        30.0       0.53      0.36      0.43        28\n",
      "        31.0       0.78      0.79      0.78        39\n",
      "        32.0       0.31      0.15      0.21        26\n",
      "        33.0       0.29      0.29      0.29        31\n",
      "        34.0       0.78      0.47      0.58        15\n",
      "        35.0       0.50      0.50      0.50        24\n",
      "        36.0       0.80      0.62      0.70        26\n",
      "        37.0       0.57      0.55      0.56        31\n",
      "        38.0       0.53      0.76      0.62        33\n",
      "        39.0       0.49      0.76      0.60        33\n",
      "        40.0       0.60      0.41      0.49        29\n",
      "        41.0       0.45      0.25      0.32        20\n",
      "        42.0       0.53      0.54      0.53        37\n",
      "        43.0       0.82      0.64      0.72        22\n",
      "        44.0       0.44      0.46      0.45        35\n",
      "        45.0       0.86      0.48      0.62        25\n",
      "        46.0       0.75      0.48      0.59        25\n",
      "        47.0       0.27      0.29      0.28        28\n",
      "        48.0       0.67      0.57      0.62        28\n",
      "        49.0       0.44      0.48      0.46        33\n",
      "\n",
      "    accuracy                           0.48      1423\n",
      "   macro avg       0.51      0.46      0.47      1423\n",
      "weighted avg       0.50      0.48      0.48      1423\n",
      "\n"
     ]
    }
   ],
   "source": [
    "vectorizer = TfidfVectorizer(max_features = embbeding_size).fit(X_train)\n",
    "        \n",
    "X_train_vectorized = vectorizer.transform(X_train)\n",
    "    \n",
    "clf = RandomForestClassifier()\n",
    "clf.fit(X_train_vectorized, y_train)\n",
    "    \n",
    "predictions = clf.predict(vectorizer.transform(X_test))\n",
    "\n",
    "print(classification_report(y_test, predictions))"
   ]
  },
  {
   "cell_type": "code",
   "execution_count": 7,
   "id": "23e5a892",
   "metadata": {},
   "outputs": [],
   "source": [
    "augmenter = aug.ContextualWordEmbsAug(model_path='bert-base-uncased', action=\"insert\")"
   ]
  },
  {
   "cell_type": "code",
   "execution_count": 8,
   "id": "f625d6f3",
   "metadata": {},
   "outputs": [
    {
     "data": {
      "text/plain": [
       "23.0    224\n",
       "6.0     219\n",
       "29.0    204\n",
       "31.0    196\n",
       "18.0    193\n",
       "0.0     190\n",
       "28.0    185\n",
       "42.0    184\n",
       "5.0     184\n",
       "3.0     182\n",
       "12.0    180\n",
       "44.0    176\n",
       "38.0    165\n",
       "49.0    165\n",
       "39.0    164\n",
       "19.0    162\n",
       "33.0    156\n",
       "22.0    155\n",
       "7.0     154\n",
       "37.0    154\n",
       "14.0    145\n",
       "13.0    143\n",
       "40.0    143\n",
       "30.0    142\n",
       "48.0    141\n",
       "2.0     140\n",
       "47.0    139\n",
       "15.0    136\n",
       "24.0    131\n",
       "36.0    130\n",
       "32.0    128\n",
       "45.0    127\n",
       "46.0    124\n",
       "9.0     123\n",
       "35.0    122\n",
       "27.0    118\n",
       "8.0     117\n",
       "1.0     117\n",
       "4.0     116\n",
       "43.0    112\n",
       "25.0    110\n",
       "26.0    107\n",
       "17.0    107\n",
       "21.0    107\n",
       "10.0    106\n",
       "41.0    101\n",
       "11.0     98\n",
       "34.0     73\n",
       "20.0     61\n",
       "16.0     59\n",
       "Name: class_num, dtype: int64"
      ]
     },
     "execution_count": 8,
     "metadata": {},
     "output_type": "execute_result"
    }
   ],
   "source": [
    "df['class_num'].value_counts()\n"
   ]
  },
  {
   "cell_type": "code",
   "execution_count": 9,
   "id": "cb06a8c0",
   "metadata": {},
   "outputs": [],
   "source": [
    "def augmentMyData(df, augmenter, class_number, repetitions=1, samples=200):\n",
    "    augmented_texts = []\n",
    "    # select only the minority class samples\n",
    "    spam_df = df[df['class_num'] == class_number].reset_index(drop=True) # removes unecessary index column\n",
    "    for i in tqdm(np.random.randint(0, len(spam_df), samples)):\n",
    "        # generating 'n_samples' augmented texts\n",
    "        for _ in range(repetitions):\n",
    "            augmented_text = augmenter.augment(spam_df['text'].iloc[i])\n",
    "            #print(augmented_text)\n",
    "            #print(str(augmented_text)[2:-2])\n",
    "            augmented_texts.append(str(augmented_text)[2:-2])\n",
    "    \n",
    "    data = {\n",
    "        'class_num': class_number,\n",
    "        'text': augmented_texts\n",
    "    }\n",
    "    aug_df = pd.DataFrame(data)\n",
    "    df = shuffle(df.append(aug_df).reset_index(drop=True))\n",
    "    return df"
   ]
  },
  {
   "cell_type": "code",
   "execution_count": 10,
   "id": "0323ba54",
   "metadata": {},
   "outputs": [
    {
     "data": {
      "text/html": [
       "<div>\n",
       "<style scoped>\n",
       "    .dataframe tbody tr th:only-of-type {\n",
       "        vertical-align: middle;\n",
       "    }\n",
       "\n",
       "    .dataframe tbody tr th {\n",
       "        vertical-align: top;\n",
       "    }\n",
       "\n",
       "    .dataframe thead th {\n",
       "        text-align: right;\n",
       "    }\n",
       "</style>\n",
       "<table border=\"1\" class=\"dataframe\">\n",
       "  <thead>\n",
       "    <tr style=\"text-align: right;\">\n",
       "      <th></th>\n",
       "      <th>text</th>\n",
       "      <th>class_num</th>\n",
       "    </tr>\n",
       "  </thead>\n",
       "  <tbody>\n",
       "    <tr>\n",
       "      <th>0</th>\n",
       "      <td>this article is about the herbivorous mammals....</td>\n",
       "      <td>0.0</td>\n",
       "    </tr>\n",
       "    <tr>\n",
       "      <th>1</th>\n",
       "      <td>one new world species, the pronghorn of north ...</td>\n",
       "      <td>0.0</td>\n",
       "    </tr>\n",
       "    <tr>\n",
       "      <th>2</th>\n",
       "      <td>the english word \"animal\" first appeared in 14...</td>\n",
       "      <td>0.0</td>\n",
       "    </tr>\n",
       "    <tr>\n",
       "      <th>3</th>\n",
       "      <td>the word talopus and calopus, from latin, came...</td>\n",
       "      <td>0.0</td>\n",
       "    </tr>\n",
       "    <tr>\n",
       "      <th>4</th>\n",
       "      <td>animal are not a cladistic or taxonomically de...</td>\n",
       "      <td>0.0</td>\n",
       "    </tr>\n",
       "  </tbody>\n",
       "</table>\n",
       "</div>"
      ],
      "text/plain": [
       "                                                text  class_num\n",
       "0  this article is about the herbivorous mammals....        0.0\n",
       "1  one new world species, the pronghorn of north ...        0.0\n",
       "2  the english word \"animal\" first appeared in 14...        0.0\n",
       "3  the word talopus and calopus, from latin, came...        0.0\n",
       "4  animal are not a cladistic or taxonomically de...        0.0"
      ]
     },
     "execution_count": 10,
     "metadata": {},
     "output_type": "execute_result"
    }
   ],
   "source": [
    "new_df = df[['text', 'class_num']]\n",
    "new_df.head(5)"
   ]
  },
  {
   "cell_type": "code",
   "execution_count": 11,
   "id": "8af94aa0",
   "metadata": {},
   "outputs": [
    {
     "name": "stdout",
     "output_type": "stream",
     "text": [
      "augmenting 34 for class of 0\n"
     ]
    },
    {
     "name": "stderr",
     "output_type": "stream",
     "text": [
      "100%|██████████████████████████████████████████████████████████████████████████████████| 34/34 [00:27<00:00,  1.23it/s]\n",
      "C:\\Users\\MOHSEN\\AppData\\Local\\Temp\\ipykernel_71224\\2429172311.py:18: FutureWarning: The frame.append method is deprecated and will be removed from pandas in a future version. Use pandas.concat instead.\n",
      "  df = shuffle(df.append(aug_df).reset_index(drop=True))\n"
     ]
    },
    {
     "name": "stdout",
     "output_type": "stream",
     "text": [
      "augmenting 107 for class of 1\n"
     ]
    },
    {
     "name": "stderr",
     "output_type": "stream",
     "text": [
      "100%|████████████████████████████████████████████████████████████████████████████████| 107/107 [01:28<00:00,  1.21it/s]\n",
      "C:\\Users\\MOHSEN\\AppData\\Local\\Temp\\ipykernel_71224\\2429172311.py:18: FutureWarning: The frame.append method is deprecated and will be removed from pandas in a future version. Use pandas.concat instead.\n",
      "  df = shuffle(df.append(aug_df).reset_index(drop=True))\n"
     ]
    },
    {
     "name": "stdout",
     "output_type": "stream",
     "text": [
      "augmenting 84 for class of 2\n"
     ]
    },
    {
     "name": "stderr",
     "output_type": "stream",
     "text": [
      "100%|██████████████████████████████████████████████████████████████████████████████████| 84/84 [01:09<00:00,  1.21it/s]\n",
      "C:\\Users\\MOHSEN\\AppData\\Local\\Temp\\ipykernel_71224\\2429172311.py:18: FutureWarning: The frame.append method is deprecated and will be removed from pandas in a future version. Use pandas.concat instead.\n",
      "  df = shuffle(df.append(aug_df).reset_index(drop=True))\n"
     ]
    },
    {
     "name": "stdout",
     "output_type": "stream",
     "text": [
      "augmenting 42 for class of 3\n"
     ]
    },
    {
     "name": "stderr",
     "output_type": "stream",
     "text": [
      "100%|██████████████████████████████████████████████████████████████████████████████████| 42/42 [00:34<00:00,  1.22it/s]\n",
      "C:\\Users\\MOHSEN\\AppData\\Local\\Temp\\ipykernel_71224\\2429172311.py:18: FutureWarning: The frame.append method is deprecated and will be removed from pandas in a future version. Use pandas.concat instead.\n",
      "  df = shuffle(df.append(aug_df).reset_index(drop=True))\n"
     ]
    },
    {
     "name": "stdout",
     "output_type": "stream",
     "text": [
      "augmenting 108 for class of 4\n"
     ]
    },
    {
     "name": "stderr",
     "output_type": "stream",
     "text": [
      "100%|████████████████████████████████████████████████████████████████████████████████| 108/108 [01:29<00:00,  1.20it/s]\n",
      "C:\\Users\\MOHSEN\\AppData\\Local\\Temp\\ipykernel_71224\\2429172311.py:18: FutureWarning: The frame.append method is deprecated and will be removed from pandas in a future version. Use pandas.concat instead.\n",
      "  df = shuffle(df.append(aug_df).reset_index(drop=True))\n"
     ]
    },
    {
     "name": "stdout",
     "output_type": "stream",
     "text": [
      "augmenting 40 for class of 5\n"
     ]
    },
    {
     "name": "stderr",
     "output_type": "stream",
     "text": [
      "100%|██████████████████████████████████████████████████████████████████████████████████| 40/40 [00:35<00:00,  1.13it/s]\n",
      "C:\\Users\\MOHSEN\\AppData\\Local\\Temp\\ipykernel_71224\\2429172311.py:18: FutureWarning: The frame.append method is deprecated and will be removed from pandas in a future version. Use pandas.concat instead.\n",
      "  df = shuffle(df.append(aug_df).reset_index(drop=True))\n"
     ]
    },
    {
     "name": "stdout",
     "output_type": "stream",
     "text": [
      "augmenting 5 for class of 6\n"
     ]
    },
    {
     "name": "stderr",
     "output_type": "stream",
     "text": [
      "100%|████████████████████████████████████████████████████████████████████████████████████| 5/5 [00:04<00:00,  1.20it/s]\n",
      "C:\\Users\\MOHSEN\\AppData\\Local\\Temp\\ipykernel_71224\\2429172311.py:18: FutureWarning: The frame.append method is deprecated and will be removed from pandas in a future version. Use pandas.concat instead.\n",
      "  df = shuffle(df.append(aug_df).reset_index(drop=True))\n"
     ]
    },
    {
     "name": "stdout",
     "output_type": "stream",
     "text": [
      "augmenting 70 for class of 7\n"
     ]
    },
    {
     "name": "stderr",
     "output_type": "stream",
     "text": [
      "100%|██████████████████████████████████████████████████████████████████████████████████| 70/70 [01:06<00:00,  1.05it/s]\n",
      "C:\\Users\\MOHSEN\\AppData\\Local\\Temp\\ipykernel_71224\\2429172311.py:18: FutureWarning: The frame.append method is deprecated and will be removed from pandas in a future version. Use pandas.concat instead.\n",
      "  df = shuffle(df.append(aug_df).reset_index(drop=True))\n"
     ]
    },
    {
     "name": "stdout",
     "output_type": "stream",
     "text": [
      "augmenting 107 for class of 8\n"
     ]
    },
    {
     "name": "stderr",
     "output_type": "stream",
     "text": [
      "100%|████████████████████████████████████████████████████████████████████████████████| 107/107 [01:37<00:00,  1.09it/s]\n",
      "C:\\Users\\MOHSEN\\AppData\\Local\\Temp\\ipykernel_71224\\2429172311.py:18: FutureWarning: The frame.append method is deprecated and will be removed from pandas in a future version. Use pandas.concat instead.\n",
      "  df = shuffle(df.append(aug_df).reset_index(drop=True))\n"
     ]
    },
    {
     "name": "stdout",
     "output_type": "stream",
     "text": [
      "augmenting 101 for class of 9\n"
     ]
    },
    {
     "name": "stderr",
     "output_type": "stream",
     "text": [
      "100%|████████████████████████████████████████████████████████████████████████████████| 101/101 [01:25<00:00,  1.18it/s]\n",
      "C:\\Users\\MOHSEN\\AppData\\Local\\Temp\\ipykernel_71224\\2429172311.py:18: FutureWarning: The frame.append method is deprecated and will be removed from pandas in a future version. Use pandas.concat instead.\n",
      "  df = shuffle(df.append(aug_df).reset_index(drop=True))\n"
     ]
    },
    {
     "name": "stdout",
     "output_type": "stream",
     "text": [
      "augmenting 118 for class of 10\n"
     ]
    },
    {
     "name": "stderr",
     "output_type": "stream",
     "text": [
      "100%|████████████████████████████████████████████████████████████████████████████████| 118/118 [01:43<00:00,  1.14it/s]\n",
      "C:\\Users\\MOHSEN\\AppData\\Local\\Temp\\ipykernel_71224\\2429172311.py:18: FutureWarning: The frame.append method is deprecated and will be removed from pandas in a future version. Use pandas.concat instead.\n",
      "  df = shuffle(df.append(aug_df).reset_index(drop=True))\n"
     ]
    },
    {
     "name": "stdout",
     "output_type": "stream",
     "text": [
      "augmenting 126 for class of 11\n"
     ]
    },
    {
     "name": "stderr",
     "output_type": "stream",
     "text": [
      "100%|████████████████████████████████████████████████████████████████████████████████| 126/126 [01:46<00:00,  1.18it/s]\n",
      "C:\\Users\\MOHSEN\\AppData\\Local\\Temp\\ipykernel_71224\\2429172311.py:18: FutureWarning: The frame.append method is deprecated and will be removed from pandas in a future version. Use pandas.concat instead.\n",
      "  df = shuffle(df.append(aug_df).reset_index(drop=True))\n"
     ]
    },
    {
     "name": "stdout",
     "output_type": "stream",
     "text": [
      "augmenting 44 for class of 12\n"
     ]
    },
    {
     "name": "stderr",
     "output_type": "stream",
     "text": [
      "100%|██████████████████████████████████████████████████████████████████████████████████| 44/44 [00:38<00:00,  1.15it/s]\n",
      "C:\\Users\\MOHSEN\\AppData\\Local\\Temp\\ipykernel_71224\\2429172311.py:18: FutureWarning: The frame.append method is deprecated and will be removed from pandas in a future version. Use pandas.concat instead.\n",
      "  df = shuffle(df.append(aug_df).reset_index(drop=True))\n"
     ]
    },
    {
     "name": "stdout",
     "output_type": "stream",
     "text": [
      "augmenting 81 for class of 13\n"
     ]
    },
    {
     "name": "stderr",
     "output_type": "stream",
     "text": [
      "100%|██████████████████████████████████████████████████████████████████████████████████| 81/81 [01:09<00:00,  1.16it/s]\n",
      "C:\\Users\\MOHSEN\\AppData\\Local\\Temp\\ipykernel_71224\\2429172311.py:18: FutureWarning: The frame.append method is deprecated and will be removed from pandas in a future version. Use pandas.concat instead.\n",
      "  df = shuffle(df.append(aug_df).reset_index(drop=True))\n"
     ]
    },
    {
     "name": "stdout",
     "output_type": "stream",
     "text": [
      "augmenting 79 for class of 14\n"
     ]
    },
    {
     "name": "stderr",
     "output_type": "stream",
     "text": [
      "100%|██████████████████████████████████████████████████████████████████████████████████| 79/79 [01:04<00:00,  1.22it/s]\n",
      "C:\\Users\\MOHSEN\\AppData\\Local\\Temp\\ipykernel_71224\\2429172311.py:18: FutureWarning: The frame.append method is deprecated and will be removed from pandas in a future version. Use pandas.concat instead.\n",
      "  df = shuffle(df.append(aug_df).reset_index(drop=True))\n"
     ]
    },
    {
     "name": "stdout",
     "output_type": "stream",
     "text": [
      "augmenting 88 for class of 15\n"
     ]
    },
    {
     "name": "stderr",
     "output_type": "stream",
     "text": [
      "100%|██████████████████████████████████████████████████████████████████████████████████| 88/88 [01:14<00:00,  1.18it/s]\n",
      "C:\\Users\\MOHSEN\\AppData\\Local\\Temp\\ipykernel_71224\\2429172311.py:18: FutureWarning: The frame.append method is deprecated and will be removed from pandas in a future version. Use pandas.concat instead.\n",
      "  df = shuffle(df.append(aug_df).reset_index(drop=True))\n"
     ]
    },
    {
     "name": "stdout",
     "output_type": "stream",
     "text": [
      "augmenting 165 for class of 16\n"
     ]
    },
    {
     "name": "stderr",
     "output_type": "stream",
     "text": [
      "100%|████████████████████████████████████████████████████████████████████████████████| 165/165 [02:19<00:00,  1.19it/s]\n",
      "C:\\Users\\MOHSEN\\AppData\\Local\\Temp\\ipykernel_71224\\2429172311.py:18: FutureWarning: The frame.append method is deprecated and will be removed from pandas in a future version. Use pandas.concat instead.\n",
      "  df = shuffle(df.append(aug_df).reset_index(drop=True))\n"
     ]
    },
    {
     "name": "stdout",
     "output_type": "stream",
     "text": [
      "augmenting 117 for class of 17\n"
     ]
    },
    {
     "name": "stderr",
     "output_type": "stream",
     "text": [
      "100%|████████████████████████████████████████████████████████████████████████████████| 117/117 [01:36<00:00,  1.21it/s]\n",
      "C:\\Users\\MOHSEN\\AppData\\Local\\Temp\\ipykernel_71224\\2429172311.py:18: FutureWarning: The frame.append method is deprecated and will be removed from pandas in a future version. Use pandas.concat instead.\n",
      "  df = shuffle(df.append(aug_df).reset_index(drop=True))\n"
     ]
    },
    {
     "name": "stdout",
     "output_type": "stream",
     "text": [
      "augmenting 31 for class of 18\n"
     ]
    },
    {
     "name": "stderr",
     "output_type": "stream",
     "text": [
      "100%|██████████████████████████████████████████████████████████████████████████████████| 31/31 [00:26<00:00,  1.17it/s]\n",
      "C:\\Users\\MOHSEN\\AppData\\Local\\Temp\\ipykernel_71224\\2429172311.py:18: FutureWarning: The frame.append method is deprecated and will be removed from pandas in a future version. Use pandas.concat instead.\n",
      "  df = shuffle(df.append(aug_df).reset_index(drop=True))\n"
     ]
    },
    {
     "name": "stdout",
     "output_type": "stream",
     "text": [
      "augmenting 62 for class of 19\n"
     ]
    },
    {
     "name": "stderr",
     "output_type": "stream",
     "text": [
      "100%|██████████████████████████████████████████████████████████████████████████████████| 62/62 [00:52<00:00,  1.19it/s]\n",
      "C:\\Users\\MOHSEN\\AppData\\Local\\Temp\\ipykernel_71224\\2429172311.py:18: FutureWarning: The frame.append method is deprecated and will be removed from pandas in a future version. Use pandas.concat instead.\n",
      "  df = shuffle(df.append(aug_df).reset_index(drop=True))\n"
     ]
    },
    {
     "name": "stdout",
     "output_type": "stream",
     "text": [
      "augmenting 163 for class of 20\n"
     ]
    },
    {
     "name": "stderr",
     "output_type": "stream",
     "text": [
      "100%|████████████████████████████████████████████████████████████████████████████████| 163/163 [02:17<00:00,  1.18it/s]\n",
      "C:\\Users\\MOHSEN\\AppData\\Local\\Temp\\ipykernel_71224\\2429172311.py:18: FutureWarning: The frame.append method is deprecated and will be removed from pandas in a future version. Use pandas.concat instead.\n",
      "  df = shuffle(df.append(aug_df).reset_index(drop=True))\n"
     ]
    },
    {
     "name": "stdout",
     "output_type": "stream",
     "text": [
      "augmenting 117 for class of 21\n"
     ]
    },
    {
     "name": "stderr",
     "output_type": "stream",
     "text": [
      "100%|████████████████████████████████████████████████████████████████████████████████| 117/117 [01:37<00:00,  1.20it/s]\n",
      "C:\\Users\\MOHSEN\\AppData\\Local\\Temp\\ipykernel_71224\\2429172311.py:18: FutureWarning: The frame.append method is deprecated and will be removed from pandas in a future version. Use pandas.concat instead.\n",
      "  df = shuffle(df.append(aug_df).reset_index(drop=True))\n"
     ]
    },
    {
     "name": "stdout",
     "output_type": "stream",
     "text": [
      "augmenting 69 for class of 22\n"
     ]
    },
    {
     "name": "stderr",
     "output_type": "stream",
     "text": [
      "100%|██████████████████████████████████████████████████████████████████████████████████| 69/69 [01:01<00:00,  1.12it/s]\n",
      "C:\\Users\\MOHSEN\\AppData\\Local\\Temp\\ipykernel_71224\\2429172311.py:18: FutureWarning: The frame.append method is deprecated and will be removed from pandas in a future version. Use pandas.concat instead.\n",
      "  df = shuffle(df.append(aug_df).reset_index(drop=True))\n"
     ]
    },
    {
     "name": "stdout",
     "output_type": "stream",
     "text": [
      "augmenting 0 for class of 23\n"
     ]
    },
    {
     "name": "stderr",
     "output_type": "stream",
     "text": [
      "0it [00:00, ?it/s]\n",
      "C:\\Users\\MOHSEN\\AppData\\Local\\Temp\\ipykernel_71224\\2429172311.py:18: FutureWarning: The frame.append method is deprecated and will be removed from pandas in a future version. Use pandas.concat instead.\n",
      "  df = shuffle(df.append(aug_df).reset_index(drop=True))\n"
     ]
    },
    {
     "name": "stdout",
     "output_type": "stream",
     "text": [
      "augmenting 93 for class of 24\n"
     ]
    },
    {
     "name": "stderr",
     "output_type": "stream",
     "text": [
      "100%|██████████████████████████████████████████████████████████████████████████████████| 93/93 [01:25<00:00,  1.09it/s]\n",
      "C:\\Users\\MOHSEN\\AppData\\Local\\Temp\\ipykernel_71224\\2429172311.py:18: FutureWarning: The frame.append method is deprecated and will be removed from pandas in a future version. Use pandas.concat instead.\n",
      "  df = shuffle(df.append(aug_df).reset_index(drop=True))\n"
     ]
    },
    {
     "name": "stdout",
     "output_type": "stream",
     "text": [
      "augmenting 114 for class of 25\n"
     ]
    },
    {
     "name": "stderr",
     "output_type": "stream",
     "text": [
      "100%|████████████████████████████████████████████████████████████████████████████████| 114/114 [01:45<00:00,  1.08it/s]\n",
      "C:\\Users\\MOHSEN\\AppData\\Local\\Temp\\ipykernel_71224\\2429172311.py:18: FutureWarning: The frame.append method is deprecated and will be removed from pandas in a future version. Use pandas.concat instead.\n",
      "  df = shuffle(df.append(aug_df).reset_index(drop=True))\n"
     ]
    },
    {
     "name": "stdout",
     "output_type": "stream",
     "text": [
      "augmenting 117 for class of 26\n"
     ]
    },
    {
     "name": "stderr",
     "output_type": "stream",
     "text": [
      "100%|████████████████████████████████████████████████████████████████████████████████| 117/117 [01:50<00:00,  1.06it/s]\n",
      "C:\\Users\\MOHSEN\\AppData\\Local\\Temp\\ipykernel_71224\\2429172311.py:18: FutureWarning: The frame.append method is deprecated and will be removed from pandas in a future version. Use pandas.concat instead.\n",
      "  df = shuffle(df.append(aug_df).reset_index(drop=True))\n"
     ]
    },
    {
     "name": "stdout",
     "output_type": "stream",
     "text": [
      "augmenting 106 for class of 27\n"
     ]
    },
    {
     "name": "stderr",
     "output_type": "stream",
     "text": [
      "100%|████████████████████████████████████████████████████████████████████████████████| 106/106 [01:36<00:00,  1.09it/s]\n",
      "C:\\Users\\MOHSEN\\AppData\\Local\\Temp\\ipykernel_71224\\2429172311.py:18: FutureWarning: The frame.append method is deprecated and will be removed from pandas in a future version. Use pandas.concat instead.\n",
      "  df = shuffle(df.append(aug_df).reset_index(drop=True))\n"
     ]
    },
    {
     "name": "stdout",
     "output_type": "stream",
     "text": [
      "augmenting 39 for class of 28\n"
     ]
    },
    {
     "name": "stderr",
     "output_type": "stream",
     "text": [
      "100%|██████████████████████████████████████████████████████████████████████████████████| 39/39 [00:38<00:00,  1.01it/s]\n",
      "C:\\Users\\MOHSEN\\AppData\\Local\\Temp\\ipykernel_71224\\2429172311.py:18: FutureWarning: The frame.append method is deprecated and will be removed from pandas in a future version. Use pandas.concat instead.\n",
      "  df = shuffle(df.append(aug_df).reset_index(drop=True))\n"
     ]
    },
    {
     "name": "stdout",
     "output_type": "stream",
     "text": [
      "augmenting 20 for class of 29\n"
     ]
    },
    {
     "name": "stderr",
     "output_type": "stream",
     "text": [
      "100%|██████████████████████████████████████████████████████████████████████████████████| 20/20 [00:20<00:00,  1.02s/it]\n",
      "C:\\Users\\MOHSEN\\AppData\\Local\\Temp\\ipykernel_71224\\2429172311.py:18: FutureWarning: The frame.append method is deprecated and will be removed from pandas in a future version. Use pandas.concat instead.\n",
      "  df = shuffle(df.append(aug_df).reset_index(drop=True))\n"
     ]
    },
    {
     "name": "stdout",
     "output_type": "stream",
     "text": [
      "augmenting 82 for class of 30\n"
     ]
    },
    {
     "name": "stderr",
     "output_type": "stream",
     "text": [
      "100%|██████████████████████████████████████████████████████████████████████████████████| 82/82 [01:12<00:00,  1.12it/s]\n",
      "C:\\Users\\MOHSEN\\AppData\\Local\\Temp\\ipykernel_71224\\2429172311.py:18: FutureWarning: The frame.append method is deprecated and will be removed from pandas in a future version. Use pandas.concat instead.\n",
      "  df = shuffle(df.append(aug_df).reset_index(drop=True))\n"
     ]
    },
    {
     "name": "stdout",
     "output_type": "stream",
     "text": [
      "augmenting 28 for class of 31\n"
     ]
    },
    {
     "name": "stderr",
     "output_type": "stream",
     "text": [
      "100%|██████████████████████████████████████████████████████████████████████████████████| 28/28 [00:26<00:00,  1.07it/s]\n",
      "C:\\Users\\MOHSEN\\AppData\\Local\\Temp\\ipykernel_71224\\2429172311.py:18: FutureWarning: The frame.append method is deprecated and will be removed from pandas in a future version. Use pandas.concat instead.\n",
      "  df = shuffle(df.append(aug_df).reset_index(drop=True))\n"
     ]
    },
    {
     "name": "stdout",
     "output_type": "stream",
     "text": [
      "augmenting 96 for class of 32\n"
     ]
    },
    {
     "name": "stderr",
     "output_type": "stream",
     "text": [
      "100%|██████████████████████████████████████████████████████████████████████████████████| 96/96 [01:20<00:00,  1.20it/s]\n",
      "C:\\Users\\MOHSEN\\AppData\\Local\\Temp\\ipykernel_71224\\2429172311.py:18: FutureWarning: The frame.append method is deprecated and will be removed from pandas in a future version. Use pandas.concat instead.\n",
      "  df = shuffle(df.append(aug_df).reset_index(drop=True))\n"
     ]
    },
    {
     "name": "stdout",
     "output_type": "stream",
     "text": [
      "augmenting 68 for class of 33\n"
     ]
    },
    {
     "name": "stderr",
     "output_type": "stream",
     "text": [
      "100%|██████████████████████████████████████████████████████████████████████████████████| 68/68 [00:57<00:00,  1.19it/s]\n",
      "C:\\Users\\MOHSEN\\AppData\\Local\\Temp\\ipykernel_71224\\2429172311.py:18: FutureWarning: The frame.append method is deprecated and will be removed from pandas in a future version. Use pandas.concat instead.\n",
      "  df = shuffle(df.append(aug_df).reset_index(drop=True))\n"
     ]
    },
    {
     "name": "stdout",
     "output_type": "stream",
     "text": [
      "augmenting 151 for class of 34\n"
     ]
    },
    {
     "name": "stderr",
     "output_type": "stream",
     "text": [
      "100%|████████████████████████████████████████████████████████████████████████████████| 151/151 [02:05<00:00,  1.20it/s]\n",
      "C:\\Users\\MOHSEN\\AppData\\Local\\Temp\\ipykernel_71224\\2429172311.py:18: FutureWarning: The frame.append method is deprecated and will be removed from pandas in a future version. Use pandas.concat instead.\n",
      "  df = shuffle(df.append(aug_df).reset_index(drop=True))\n"
     ]
    },
    {
     "name": "stdout",
     "output_type": "stream",
     "text": [
      "augmenting 102 for class of 35\n"
     ]
    },
    {
     "name": "stderr",
     "output_type": "stream",
     "text": [
      "100%|████████████████████████████████████████████████████████████████████████████████| 102/102 [01:22<00:00,  1.24it/s]\n",
      "C:\\Users\\MOHSEN\\AppData\\Local\\Temp\\ipykernel_71224\\2429172311.py:18: FutureWarning: The frame.append method is deprecated and will be removed from pandas in a future version. Use pandas.concat instead.\n",
      "  df = shuffle(df.append(aug_df).reset_index(drop=True))\n"
     ]
    },
    {
     "name": "stdout",
     "output_type": "stream",
     "text": [
      "augmenting 94 for class of 36\n"
     ]
    },
    {
     "name": "stderr",
     "output_type": "stream",
     "text": [
      "100%|██████████████████████████████████████████████████████████████████████████████████| 94/94 [01:16<00:00,  1.23it/s]\n",
      "C:\\Users\\MOHSEN\\AppData\\Local\\Temp\\ipykernel_71224\\2429172311.py:18: FutureWarning: The frame.append method is deprecated and will be removed from pandas in a future version. Use pandas.concat instead.\n",
      "  df = shuffle(df.append(aug_df).reset_index(drop=True))\n"
     ]
    },
    {
     "name": "stdout",
     "output_type": "stream",
     "text": [
      "augmenting 70 for class of 37\n"
     ]
    },
    {
     "name": "stderr",
     "output_type": "stream",
     "text": [
      "100%|██████████████████████████████████████████████████████████████████████████████████| 70/70 [00:59<00:00,  1.18it/s]\n",
      "C:\\Users\\MOHSEN\\AppData\\Local\\Temp\\ipykernel_71224\\2429172311.py:18: FutureWarning: The frame.append method is deprecated and will be removed from pandas in a future version. Use pandas.concat instead.\n",
      "  df = shuffle(df.append(aug_df).reset_index(drop=True))\n"
     ]
    },
    {
     "name": "stdout",
     "output_type": "stream",
     "text": [
      "augmenting 59 for class of 38\n"
     ]
    },
    {
     "name": "stderr",
     "output_type": "stream",
     "text": [
      "100%|██████████████████████████████████████████████████████████████████████████████████| 59/59 [00:52<00:00,  1.12it/s]\n",
      "C:\\Users\\MOHSEN\\AppData\\Local\\Temp\\ipykernel_71224\\2429172311.py:18: FutureWarning: The frame.append method is deprecated and will be removed from pandas in a future version. Use pandas.concat instead.\n",
      "  df = shuffle(df.append(aug_df).reset_index(drop=True))\n"
     ]
    },
    {
     "name": "stdout",
     "output_type": "stream",
     "text": [
      "augmenting 60 for class of 39\n"
     ]
    },
    {
     "name": "stderr",
     "output_type": "stream",
     "text": [
      "100%|██████████████████████████████████████████████████████████████████████████████████| 60/60 [00:51<00:00,  1.18it/s]\n",
      "C:\\Users\\MOHSEN\\AppData\\Local\\Temp\\ipykernel_71224\\2429172311.py:18: FutureWarning: The frame.append method is deprecated and will be removed from pandas in a future version. Use pandas.concat instead.\n",
      "  df = shuffle(df.append(aug_df).reset_index(drop=True))\n"
     ]
    },
    {
     "name": "stdout",
     "output_type": "stream",
     "text": [
      "augmenting 81 for class of 40\n"
     ]
    },
    {
     "name": "stderr",
     "output_type": "stream",
     "text": [
      "100%|██████████████████████████████████████████████████████████████████████████████████| 81/81 [01:16<00:00,  1.06it/s]\n",
      "C:\\Users\\MOHSEN\\AppData\\Local\\Temp\\ipykernel_71224\\2429172311.py:18: FutureWarning: The frame.append method is deprecated and will be removed from pandas in a future version. Use pandas.concat instead.\n",
      "  df = shuffle(df.append(aug_df).reset_index(drop=True))\n"
     ]
    },
    {
     "name": "stdout",
     "output_type": "stream",
     "text": [
      "augmenting 123 for class of 41\n"
     ]
    },
    {
     "name": "stderr",
     "output_type": "stream",
     "text": [
      "100%|████████████████████████████████████████████████████████████████████████████████| 123/123 [01:47<00:00,  1.14it/s]\n",
      "C:\\Users\\MOHSEN\\AppData\\Local\\Temp\\ipykernel_71224\\2429172311.py:18: FutureWarning: The frame.append method is deprecated and will be removed from pandas in a future version. Use pandas.concat instead.\n",
      "  df = shuffle(df.append(aug_df).reset_index(drop=True))\n"
     ]
    },
    {
     "name": "stdout",
     "output_type": "stream",
     "text": [
      "augmenting 40 for class of 42\n"
     ]
    },
    {
     "name": "stderr",
     "output_type": "stream",
     "text": [
      "100%|██████████████████████████████████████████████████████████████████████████████████| 40/40 [00:36<00:00,  1.09it/s]\n",
      "C:\\Users\\MOHSEN\\AppData\\Local\\Temp\\ipykernel_71224\\2429172311.py:18: FutureWarning: The frame.append method is deprecated and will be removed from pandas in a future version. Use pandas.concat instead.\n",
      "  df = shuffle(df.append(aug_df).reset_index(drop=True))\n"
     ]
    },
    {
     "name": "stdout",
     "output_type": "stream",
     "text": [
      "augmenting 112 for class of 43\n"
     ]
    },
    {
     "name": "stderr",
     "output_type": "stream",
     "text": [
      "100%|████████████████████████████████████████████████████████████████████████████████| 112/112 [01:49<00:00,  1.02it/s]\n",
      "C:\\Users\\MOHSEN\\AppData\\Local\\Temp\\ipykernel_71224\\2429172311.py:18: FutureWarning: The frame.append method is deprecated and will be removed from pandas in a future version. Use pandas.concat instead.\n",
      "  df = shuffle(df.append(aug_df).reset_index(drop=True))\n"
     ]
    },
    {
     "name": "stdout",
     "output_type": "stream",
     "text": [
      "augmenting 48 for class of 44\n"
     ]
    },
    {
     "name": "stderr",
     "output_type": "stream",
     "text": [
      "100%|██████████████████████████████████████████████████████████████████████████████████| 48/48 [00:52<00:00,  1.10s/it]\n",
      "C:\\Users\\MOHSEN\\AppData\\Local\\Temp\\ipykernel_71224\\2429172311.py:18: FutureWarning: The frame.append method is deprecated and will be removed from pandas in a future version. Use pandas.concat instead.\n",
      "  df = shuffle(df.append(aug_df).reset_index(drop=True))\n"
     ]
    },
    {
     "name": "stdout",
     "output_type": "stream",
     "text": [
      "augmenting 97 for class of 45\n"
     ]
    },
    {
     "name": "stderr",
     "output_type": "stream",
     "text": [
      "100%|██████████████████████████████████████████████████████████████████████████████████| 97/97 [01:43<00:00,  1.07s/it]\n",
      "C:\\Users\\MOHSEN\\AppData\\Local\\Temp\\ipykernel_71224\\2429172311.py:18: FutureWarning: The frame.append method is deprecated and will be removed from pandas in a future version. Use pandas.concat instead.\n",
      "  df = shuffle(df.append(aug_df).reset_index(drop=True))\n"
     ]
    },
    {
     "name": "stdout",
     "output_type": "stream",
     "text": [
      "augmenting 100 for class of 46\n"
     ]
    },
    {
     "name": "stderr",
     "output_type": "stream",
     "text": [
      "100%|████████████████████████████████████████████████████████████████████████████████| 100/100 [01:31<00:00,  1.09it/s]\n",
      "C:\\Users\\MOHSEN\\AppData\\Local\\Temp\\ipykernel_71224\\2429172311.py:18: FutureWarning: The frame.append method is deprecated and will be removed from pandas in a future version. Use pandas.concat instead.\n",
      "  df = shuffle(df.append(aug_df).reset_index(drop=True))\n"
     ]
    },
    {
     "name": "stdout",
     "output_type": "stream",
     "text": [
      "augmenting 85 for class of 47\n"
     ]
    },
    {
     "name": "stderr",
     "output_type": "stream",
     "text": [
      "100%|██████████████████████████████████████████████████████████████████████████████████| 85/85 [01:16<00:00,  1.11it/s]\n",
      "C:\\Users\\MOHSEN\\AppData\\Local\\Temp\\ipykernel_71224\\2429172311.py:18: FutureWarning: The frame.append method is deprecated and will be removed from pandas in a future version. Use pandas.concat instead.\n",
      "  df = shuffle(df.append(aug_df).reset_index(drop=True))\n"
     ]
    },
    {
     "name": "stdout",
     "output_type": "stream",
     "text": [
      "augmenting 83 for class of 48\n"
     ]
    },
    {
     "name": "stderr",
     "output_type": "stream",
     "text": [
      "100%|██████████████████████████████████████████████████████████████████████████████████| 83/83 [01:16<00:00,  1.08it/s]\n",
      "C:\\Users\\MOHSEN\\AppData\\Local\\Temp\\ipykernel_71224\\2429172311.py:18: FutureWarning: The frame.append method is deprecated and will be removed from pandas in a future version. Use pandas.concat instead.\n",
      "  df = shuffle(df.append(aug_df).reset_index(drop=True))\n"
     ]
    },
    {
     "name": "stdout",
     "output_type": "stream",
     "text": [
      "augmenting 59 for class of 49\n"
     ]
    },
    {
     "name": "stderr",
     "output_type": "stream",
     "text": [
      "100%|██████████████████████████████████████████████████████████████████████████████████| 59/59 [00:52<00:00,  1.12it/s]\n",
      "C:\\Users\\MOHSEN\\AppData\\Local\\Temp\\ipykernel_71224\\2429172311.py:18: FutureWarning: The frame.append method is deprecated and will be removed from pandas in a future version. Use pandas.concat instead.\n",
      "  df = shuffle(df.append(aug_df).reset_index(drop=True))\n"
     ]
    }
   ],
   "source": [
    "class_count = new_df['class_num'].unique().shape[0]\n",
    "class_with_maxCount = new_df['class_num'].value_counts().max()\n",
    "\n",
    "for i in range(class_count):\n",
    "    \n",
    "    samples = class_with_maxCount - new_df['class_num'].value_counts()[i]\n",
    "    \n",
    "    print(f'augmenting {samples} for class of {i}')\n",
    "    new_df = augmentMyData(new_df, augmenter, class_number=i, samples=samples)"
   ]
  },
  {
   "cell_type": "code",
   "execution_count": 12,
   "id": "f9c0c142",
   "metadata": {},
   "outputs": [
    {
     "name": "stdout",
     "output_type": "stream",
     "text": [
      "              precision    recall  f1-score   support\n",
      "\n",
      "         0.0       0.64      0.62      0.63        45\n",
      "         1.0       0.75      0.84      0.79        45\n",
      "         2.0       0.88      0.82      0.85        45\n",
      "         3.0       0.55      0.66      0.60        44\n",
      "         4.0       0.97      0.62      0.76        45\n",
      "         5.0       0.55      0.73      0.63        45\n",
      "         6.0       0.48      0.48      0.48        44\n",
      "         7.0       0.56      0.86      0.68        44\n",
      "         8.0       0.78      0.84      0.81        45\n",
      "         9.0       0.76      0.77      0.76        44\n",
      "        10.0       0.95      0.84      0.89        45\n",
      "        11.0       0.89      0.91      0.90        45\n",
      "        12.0       0.79      0.51      0.62        45\n",
      "        13.0       0.97      0.82      0.89        45\n",
      "        14.0       0.80      0.62      0.70        45\n",
      "        15.0       0.69      0.82      0.75        45\n",
      "        16.0       0.80      0.98      0.88        45\n",
      "        17.0       0.85      0.78      0.81        45\n",
      "        18.0       0.56      0.69      0.62        45\n",
      "        19.0       0.73      0.84      0.78        45\n",
      "        20.0       0.89      0.93      0.91        45\n",
      "        21.0       0.64      0.93      0.76        45\n",
      "        22.0       0.82      0.73      0.78        45\n",
      "        23.0       0.78      0.62      0.69        45\n",
      "        24.0       0.84      0.69      0.76        45\n",
      "        25.0       0.84      0.82      0.83        45\n",
      "        26.0       0.78      0.84      0.81        45\n",
      "        27.0       0.92      1.00      0.96        45\n",
      "        28.0       0.63      0.38      0.47        45\n",
      "        29.0       0.69      0.76      0.72        45\n",
      "        30.0       0.67      0.78      0.72        45\n",
      "        31.0       0.76      0.82      0.79        45\n",
      "        32.0       0.88      0.67      0.76        45\n",
      "        33.0       0.62      0.58      0.60        45\n",
      "        34.0       0.94      1.00      0.97        45\n",
      "        35.0       0.74      0.84      0.79        44\n",
      "        36.0       0.92      0.80      0.86        45\n",
      "        37.0       0.86      0.82      0.84        45\n",
      "        38.0       0.73      0.80      0.76        44\n",
      "        39.0       0.64      0.80      0.71        45\n",
      "        40.0       0.88      0.67      0.76        45\n",
      "        41.0       0.86      0.80      0.83        45\n",
      "        42.0       0.69      0.66      0.67        44\n",
      "        43.0       0.84      0.95      0.89        44\n",
      "        44.0       0.72      0.58      0.64        45\n",
      "        45.0       0.89      0.73      0.80        45\n",
      "        46.0       0.95      0.87      0.91        45\n",
      "        47.0       0.79      0.69      0.74        45\n",
      "        48.0       0.77      0.84      0.80        44\n",
      "        49.0       0.86      0.70      0.78        44\n",
      "\n",
      "    accuracy                           0.76      2240\n",
      "   macro avg       0.78      0.76      0.76      2240\n",
      "weighted avg       0.78      0.76      0.76      2240\n",
      "\n"
     ]
    }
   ],
   "source": [
    "X_train, X_test, y_train, y_test = train_test_split(\n",
    "    new_df.text, \n",
    "    new_df.class_num, \n",
    "    test_size=0.2, # 20% samples will go to test dataset\n",
    "    random_state=2022,\n",
    "    stratify=new_df.class_num\n",
    ")\n",
    "\n",
    "\n",
    "embbeding_size = 8000\n",
    "clustering_count = 3\n",
    "numof_embb = 2\n",
    "att_size = embbeding_size * clustering_count\n",
    "\n",
    "\n",
    "\n",
    "vectorizer = TfidfVectorizer(max_features = embbeding_size)\n",
    "X_train_vectorized = vectorizer.fit_transform(X_train)\n",
    "X_train_vectorized = X_train_vectorized.toarray()\n",
    "            \n",
    "clf = RandomForestClassifier()\n",
    "clf.fit(X_train_vectorized, y_train)\n",
    "    \n",
    "predictions = clf.predict(vectorizer.transform(X_test))\n",
    "\n",
    "print(classification_report(y_test, predictions))"
   ]
  },
  {
   "cell_type": "code",
   "execution_count": 19,
   "id": "9cfdd674",
   "metadata": {},
   "outputs": [
    {
     "data": {
      "text/html": [
       "<div>\n",
       "<style scoped>\n",
       "    .dataframe tbody tr th:only-of-type {\n",
       "        vertical-align: middle;\n",
       "    }\n",
       "\n",
       "    .dataframe tbody tr th {\n",
       "        vertical-align: top;\n",
       "    }\n",
       "\n",
       "    .dataframe thead th {\n",
       "        text-align: right;\n",
       "    }\n",
       "</style>\n",
       "<table border=\"1\" class=\"dataframe\">\n",
       "  <thead>\n",
       "    <tr style=\"text-align: right;\">\n",
       "      <th></th>\n",
       "      <th>text</th>\n",
       "      <th>class_num</th>\n",
       "    </tr>\n",
       "  </thead>\n",
       "  <tbody>\n",
       "    <tr>\n",
       "      <th>1888</th>\n",
       "      <td>animales tend typically to have an average lit...</td>\n",
       "      <td>21.0</td>\n",
       "    </tr>\n",
       "    <tr>\n",
       "      <th>2347</th>\n",
       "      <td>tests recorded using immature mice ( notably t...</td>\n",
       "      <td>43.0</td>\n",
       "    </tr>\n",
       "    <tr>\n",
       "      <th>3853</th>\n",
       "      <td>animal were one of the first and most successf...</td>\n",
       "      <td>22.0</td>\n",
       "    </tr>\n",
       "    <tr>\n",
       "      <th>10084</th>\n",
       "      <td>suppose a typical animal has a large head shap...</td>\n",
       "      <td>41.0</td>\n",
       "    </tr>\n",
       "    <tr>\n",
       "      <th>7176</th>\n",
       "      <td>according mostly to those journalists who also...</td>\n",
       "      <td>45.0</td>\n",
       "    </tr>\n",
       "    <tr>\n",
       "      <th>...</th>\n",
       "      <td>...</td>\n",
       "      <td>...</td>\n",
       "    </tr>\n",
       "    <tr>\n",
       "      <th>215</th>\n",
       "      <td>animals communicate through more than just cli...</td>\n",
       "      <td>49.0</td>\n",
       "    </tr>\n",
       "    <tr>\n",
       "      <th>1140</th>\n",
       "      <td>there are many names for gray wolves besides t...</td>\n",
       "      <td>31.0</td>\n",
       "    </tr>\n",
       "    <tr>\n",
       "      <th>9233</th>\n",
       "      <td>animals are in a group of breeds classed as ‘c...</td>\n",
       "      <td>7.0</td>\n",
       "    </tr>\n",
       "    <tr>\n",
       "      <th>1601</th>\n",
       "      <td>these pups are born hairless and blind in a ne...</td>\n",
       "      <td>11.0</td>\n",
       "    </tr>\n",
       "    <tr>\n",
       "      <th>534</th>\n",
       "      <td>feline asthma can be treated and managed medic...</td>\n",
       "      <td>9.0</td>\n",
       "    </tr>\n",
       "  </tbody>\n",
       "</table>\n",
       "<p>11200 rows × 2 columns</p>\n",
       "</div>"
      ],
      "text/plain": [
       "                                                    text  class_num\n",
       "1888   animales tend typically to have an average lit...       21.0\n",
       "2347   tests recorded using immature mice ( notably t...       43.0\n",
       "3853   animal were one of the first and most successf...       22.0\n",
       "10084  suppose a typical animal has a large head shap...       41.0\n",
       "7176   according mostly to those journalists who also...       45.0\n",
       "...                                                  ...        ...\n",
       "215    animals communicate through more than just cli...       49.0\n",
       "1140   there are many names for gray wolves besides t...       31.0\n",
       "9233   animals are in a group of breeds classed as ‘c...        7.0\n",
       "1601   these pups are born hairless and blind in a ne...       11.0\n",
       "534    feline asthma can be treated and managed medic...        9.0\n",
       "\n",
       "[11200 rows x 2 columns]"
      ]
     },
     "execution_count": 19,
     "metadata": {},
     "output_type": "execute_result"
    }
   ],
   "source": [
    "type(y_train)\n",
    "y_train\n",
    "t"
   ]
  },
  {
   "cell_type": "code",
   "execution_count": null,
   "id": "07669610",
   "metadata": {},
   "outputs": [],
   "source": [
    "# split the dataset before augmenting to avoid augmented data in valid set\n",
    "X_train, _, y_train, _ = train_test_split(aug_df['text'], aug_df['class_num'].values, test_size=0.2)\n",
    "_, X_test, _, y_test = train_test_split(df['text'], df['class_num'].values, test_size=0.5)\n"
   ]
  },
  {
   "cell_type": "code",
   "execution_count": null,
   "id": "4471d02f",
   "metadata": {},
   "outputs": [],
   "source": []
  }
 ],
 "metadata": {
  "kernelspec": {
   "display_name": "mytorch",
   "language": "python",
   "name": "mytorch"
  },
  "language_info": {
   "codemirror_mode": {
    "name": "ipython",
    "version": 3
   },
   "file_extension": ".py",
   "mimetype": "text/x-python",
   "name": "python",
   "nbconvert_exporter": "python",
   "pygments_lexer": "ipython3",
   "version": "3.9.15"
  }
 },
 "nbformat": 4,
 "nbformat_minor": 5
}
